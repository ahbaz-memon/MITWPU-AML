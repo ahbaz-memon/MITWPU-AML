{
 "cells": [
  {
   "cell_type": "code",
   "execution_count": 1,
   "metadata": {},
   "outputs": [],
   "source": [
    "# Importing necessary libraries\n",
    "import numpy as np\n",
    "import pandas as pd\n",
    "import matplotlib.pyplot as plt\n",
    "import seaborn as sns\n",
    "import sklearn \n",
    "from six import StringIO\n",
    "from sklearn.neighbors import KNeighborsClassifier \n",
    "from sklearn.model_selection import train_test_split # Import train_test_split function\n",
    "from sklearn.metrics import accuracy_score\n",
    "from sklearn.ensemble import RandomForestClassifier\n",
    "from sklearn.tree import DecisionTreeClassifier \n",
    "from sklearn.naive_bayes import GaussianNB \n",
    "# Load libraries \n",
    "from sklearn.svm import SVC\n",
    "from sklearn.ensemble import AdaBoostClassifier\n",
    "from sklearn.ensemble import VotingClassifier #bagging \n",
    "import pickle \n",
    "import joblib\n",
    "from sklearn.metrics import classification_report, confusion_matrix\n",
    "from IPython.display import Image\n",
    "from sklearn.tree import export_graphviz \n",
    "import pydotplus \n",
    "import plotly.graph_objects as go\n",
    "import plotly.offline as pyo\n",
    "import plotly.express as px\n",
    "from plotly.subplots import make_subplots\n",
    "from plotly import tools\n",
    "from sklearn.metrics import precision_recall_fscore_support"
   ]
  },
  {
   "cell_type": "code",
   "execution_count": 2,
   "metadata": {},
   "outputs": [],
   "source": [
    "def reading_csv(filename):\n",
    "    df=pd.read_csv(filename)\n",
    "    return df"
   ]
  },
  {
   "cell_type": "code",
   "execution_count": 3,
   "metadata": {},
   "outputs": [],
   "source": [
    "def extract_features(df):\n",
    "    X=df.iloc[:,0:7].values\n",
    "    return X"
   ]
  },
  {
   "cell_type": "code",
   "execution_count": 4,
   "metadata": {},
   "outputs": [],
   "source": [
    "def extract_target(df):\n",
    "    Y=df.iloc[:,7].values\n",
    "    return Y"
   ]
  },
  {
   "cell_type": "code",
   "execution_count": 5,
   "metadata": {},
   "outputs": [],
   "source": [
    "def split(X,Y):\n",
    "    X_train,X_test, y_train, y_test=train_test_split(X,Y, test_size=0.3, random_state=1) # 70% training and 30% test\n",
    "    return X_train,X_test, y_train, y_test"
   ]
  },
  {
   "cell_type": "code",
   "execution_count": 6,
   "metadata": {},
   "outputs": [],
   "source": [
    "df=reading_csv(\"../Datasets/CleanData.csv\")\n",
    "X=extract_features(df)\n",
    "Y=extract_target(df)\n",
    "X_train,X_test, y_train, y_test=split(X,Y)"
   ]
  },
  {
   "cell_type": "markdown",
   "metadata": {},
   "source": [
    "### Depression"
   ]
  },
  {
   "cell_type": "code",
   "execution_count": 7,
   "metadata": {},
   "outputs": [],
   "source": [
    "df_dep=reading_csv(\"../Datasets/Depression.csv\")\n",
    "X_dep=extract_features(df_dep)\n",
    "Y_dep=extract_target(df_dep)\n",
    "X_train_dep,X_test_dep, y_train_dep, y_test_dep=split(X_dep,Y_dep)"
   ]
  },
  {
   "cell_type": "code",
   "execution_count": 8,
   "metadata": {},
   "outputs": [
    {
     "data": {
      "text/plain": [
       "Index(['Q3(D)', 'Q5(D)', 'Q10(D)', 'Q13(D)', 'Q16(D)', 'Q17(D)', 'Q21(D)'], dtype='object')"
      ]
     },
     "execution_count": 8,
     "metadata": {},
     "output_type": "execute_result"
    }
   ],
   "source": [
    "dep_cols=df_dep.columns[:-1]\n",
    "dep_cols"
   ]
  },
  {
   "cell_type": "markdown",
   "metadata": {},
   "source": [
    "### Anxiety"
   ]
  },
  {
   "cell_type": "code",
   "execution_count": 9,
   "metadata": {},
   "outputs": [],
   "source": [
    "df_anx=reading_csv(\"../Datasets/Anxiety.csv\")\n",
    "X_anx=extract_features(df_anx)\n",
    "Y_anx=extract_target(df_anx)\n",
    "X_train_anx,X_test_anx, y_train_anx, y_test_anx=split(X_anx,Y_anx)"
   ]
  },
  {
   "cell_type": "code",
   "execution_count": 10,
   "metadata": {},
   "outputs": [
    {
     "data": {
      "text/plain": [
       "Index(['Q2(A)', 'Q4(A)', 'Q7(A)', 'Q9(A)', 'Q15(A)', 'Q19(A)', 'Q20(A)'], dtype='object')"
      ]
     },
     "execution_count": 10,
     "metadata": {},
     "output_type": "execute_result"
    }
   ],
   "source": [
    "anx_cols=df_anx.columns[:-1]\n",
    "anx_cols"
   ]
  },
  {
   "cell_type": "markdown",
   "metadata": {},
   "source": [
    "### Stress"
   ]
  },
  {
   "cell_type": "code",
   "execution_count": 11,
   "metadata": {},
   "outputs": [],
   "source": [
    "df_str=reading_csv(\"../Datasets/Stress.csv\")\n",
    "X_str=extract_features(df_str)\n",
    "Y_str=extract_target(df_str)\n",
    "X_train_str,X_test_str, y_train_str, y_test_str=split(X_str,Y_str)"
   ]
  },
  {
   "cell_type": "code",
   "execution_count": 12,
   "metadata": {},
   "outputs": [
    {
     "data": {
      "text/plain": [
       "Index(['Q1(S)', 'Q6(S)', 'Q8(S)', 'Q11(S)', 'Q12(S)', 'Q14(S)', 'Q18(S)'], dtype='object')"
      ]
     },
     "execution_count": 12,
     "metadata": {},
     "output_type": "execute_result"
    }
   ],
   "source": [
    "str_cols=df_str.columns[:-1]\n",
    "str_cols"
   ]
  },
  {
   "cell_type": "code",
   "execution_count": 13,
   "metadata": {},
   "outputs": [],
   "source": [
    "def save_model(model,filename):\n",
    "    with open(filename, 'wb') as file:\n",
    "        pickle.dump(model, file)"
   ]
  },
  {
   "cell_type": "code",
   "execution_count": 14,
   "metadata": {},
   "outputs": [],
   "source": [
    "def load_model(filename):\n",
    "    with open(filename, 'rb') as file:\n",
    "        model = pickle.load(file)\n",
    "    return model"
   ]
  },
  {
   "cell_type": "code",
   "execution_count": 15,
   "metadata": {},
   "outputs": [],
   "source": [
    "def dump_joblib(model,filename):\n",
    "    joblib.dump(model, filename)"
   ]
  },
  {
   "cell_type": "markdown",
   "metadata": {},
   "source": [
    "# KNN"
   ]
  },
  {
   "cell_type": "code",
   "execution_count": 16,
   "metadata": {},
   "outputs": [],
   "source": [
    "def KNN(X_train,X_test, y_train, y_test):\n",
    "    classifier= KNeighborsClassifier(n_neighbors=5, n_jobs=-1) #3 \n",
    "    classifier.fit(X_train,y_train)\n",
    "    y_pred=classifier.predict(X_test)\n",
    "    return classifier,y_pred"
   ]
  },
  {
   "cell_type": "code",
   "execution_count": 17,
   "metadata": {},
   "outputs": [],
   "source": [
    "# Depression\n",
    "model,y_pred=KNN(X_train,X_test, y_train, y_test)\n",
    "# filename=\"models/dep_model_knn.pkl\"\n",
    "# save_model(model,filename)\n",
    "knn_acc_dep=accuracy_score(y_test,y_pred)\n",
    "knn_cls_dep=classification_report(y_test, y_pred)"
   ]
  },
  {
   "cell_type": "code",
   "execution_count": 18,
   "metadata": {},
   "outputs": [
    {
     "data": {
      "text/plain": [
       "0.43992974238875876"
      ]
     },
     "execution_count": 18,
     "metadata": {},
     "output_type": "execute_result"
    }
   ],
   "source": [
    "knn_acc_dep"
   ]
  },
  {
   "cell_type": "code",
   "execution_count": 19,
   "metadata": {},
   "outputs": [],
   "source": [
    "# Depression\n",
    "model,y_pred=KNN(X_train_dep,X_test_dep, y_train_dep, y_test_dep)\n",
    "# filename=\"models/dep_model_knn.pkl\"\n",
    "# save_model(model,filename)\n",
    "knn_acc_dep=accuracy_score(y_test_dep,y_pred)\n",
    "knn_cls_dep=classification_report(y_test_dep, y_pred)"
   ]
  },
  {
   "cell_type": "code",
   "execution_count": 20,
   "metadata": {},
   "outputs": [],
   "source": [
    "# Anxiety\n",
    "model,y_pred=KNN(X_train_anx,X_test_anx, y_train_anx, y_test_anx)\n",
    "# filename=\"models/anx_model_knn.pkl\"\n",
    "# save_model(model,filename)\n",
    "knn_acc_anx=accuracy_score(y_test_anx,y_pred) \n",
    "knn_cls_anx=classification_report(y_test_anx, y_pred)"
   ]
  },
  {
   "cell_type": "code",
   "execution_count": 21,
   "metadata": {},
   "outputs": [],
   "source": [
    "# Stress\n",
    "model,y_pred=KNN(X_train_str,X_test_str, y_train_str, y_test_str)\n",
    "# filename=\"models/str_model_knn.pkl\"\n",
    "# save_model(model,filename)\n",
    "knn_acc_str=accuracy_score(y_test_str,y_pred)\n",
    "knn_cls_str=classification_report(y_test_str, y_pred)"
   ]
  },
  {
   "cell_type": "code",
   "execution_count": 22,
   "metadata": {},
   "outputs": [],
   "source": [
    "# model = load_model(\"../models/dep_model_knn.pkl\")\n",
    "# y_pred = model.predict(X_test_dep[[4]])"
   ]
  },
  {
   "cell_type": "markdown",
   "metadata": {},
   "source": [
    "# NaiveBayes"
   ]
  },
  {
   "cell_type": "code",
   "execution_count": 23,
   "metadata": {},
   "outputs": [],
   "source": [
    "def GNB(X_train,X_test, y_train, y_test):\n",
    "    gnb = GaussianNB()\n",
    "    gnb.fit(X_train,y_train)\n",
    "    y_pred = gnb.predict(X_test)  \n",
    "    return gnb, y_pred"
   ]
  },
  {
   "cell_type": "code",
   "execution_count": 24,
   "metadata": {},
   "outputs": [],
   "source": [
    "# Depression\n",
    "model,y_pred=GNB(X_train_dep,X_test_dep, y_train_dep, y_test_dep)\n",
    "# filename=\"models/dep_model_gnb.pkl\"\n",
    "# save_model(model,filename)\n",
    "gnb_acc_dep=accuracy_score(y_test_dep,y_pred)\n",
    "gnb_cls_dep=classification_report(y_test_dep, y_pred)"
   ]
  },
  {
   "cell_type": "code",
   "execution_count": 25,
   "metadata": {},
   "outputs": [],
   "source": [
    "# Anxiety\n",
    "model,y_pred=GNB(X_train_anx,X_test_anx, y_train_anx, y_test_anx)\n",
    "# filename=\"models/anx_model_gnb.pkl\"\n",
    "# save_model(model,filename)\n",
    "gnb_acc_anx=accuracy_score(y_test_anx,y_pred) \n",
    "gnb_cls_anx=classification_report(y_test_anx, y_pred)"
   ]
  },
  {
   "cell_type": "code",
   "execution_count": 26,
   "metadata": {},
   "outputs": [],
   "source": [
    "# Stress\n",
    "model,y_pred=GNB(X_train_str,X_test_str, y_train_str, y_test_str)\n",
    "# filename=\"models/str_model_gnb.pkl\"\n",
    "# save_model(model,filename)\n",
    "gnb_acc_str=accuracy_score(y_test_str,y_pred)\n",
    "gnb_cls_str=classification_report(y_test_str, y_pred)"
   ]
  },
  {
   "cell_type": "markdown",
   "metadata": {},
   "source": [
    "# Decision Tree"
   ]
  },
  {
   "cell_type": "code",
   "execution_count": 27,
   "metadata": {},
   "outputs": [],
   "source": [
    "def DTree(criteria,X_train,X_test, y_train):\n",
    "    cls = DecisionTreeClassifier(criterion=criteria, max_depth=10,splitter='best') \n",
    "    cls.fit(X_train,y_train) #training of classifier\n",
    "    y_pred = cls.predict(X_test) \n",
    "    return cls,y_pred"
   ]
  },
  {
   "cell_type": "code",
   "execution_count": 28,
   "metadata": {},
   "outputs": [],
   "source": [
    "# Depression\n",
    "model,y_pred=DTree('gini',X_train_dep,X_test_dep, y_train_dep)\n",
    "# filename=\"models/dep_model_dt.pkl\"\n",
    "# save_model(model,filename)\n",
    "dt_acc_dep=accuracy_score(y_test_dep,y_pred)\n",
    "dt_cls_dep=classification_report(y_test_dep, y_pred)"
   ]
  },
  {
   "cell_type": "code",
   "execution_count": 29,
   "metadata": {
    "scrolled": true
   },
   "outputs": [],
   "source": [
    "#Decision tree output\n",
    "dot_data = StringIO()\n",
    "export_graphviz(model, out_file=dot_data,  \n",
    "                filled=True, rounded=True,\n",
    "                special_characters=True, feature_names = dep_cols,class_names=['0','1','2','3','4'])\n",
    "graph = pydotplus.graph_from_dot_data(dot_data.getvalue())  \n",
    "# graph.write_png('depression.png')\n",
    "# Image(graph.create_png())"
   ]
  },
  {
   "cell_type": "code",
   "execution_count": 30,
   "metadata": {},
   "outputs": [],
   "source": [
    "# Anxiety\n",
    "model,y_pred=DTree('gini',X_train_anx,X_test_anx, y_train_anx)\n",
    "# filename=\"models/anx_model_dt.pkl\"\n",
    "# save_model(model,filename)\n",
    "dt_acc_anx=accuracy_score(y_test_anx,y_pred) \n",
    "dt_cls_anx=classification_report(y_test_anx, y_pred)"
   ]
  },
  {
   "cell_type": "code",
   "execution_count": 31,
   "metadata": {},
   "outputs": [],
   "source": [
    "#Decision tree output\n",
    "dot_data = StringIO()\n",
    "export_graphviz(model, out_file=dot_data,  \n",
    "                filled=True, rounded=True,\n",
    "                special_characters=True, feature_names = anx_cols,class_names=['0','1','2','3','4'])\n",
    "graph = pydotplus.graph_from_dot_data(dot_data.getvalue())  \n",
    "# graph.write_png('anxiety.png')\n",
    "# Image(graph.create_png())"
   ]
  },
  {
   "cell_type": "code",
   "execution_count": 32,
   "metadata": {},
   "outputs": [],
   "source": [
    "# Stress\n",
    "model,y_pred=DTree('gini',X_train_str,X_test_str, y_train_str)\n",
    "# filename=\"models/str_model_dt.pkl\"\n",
    "# save_model(model,filename)\n",
    "dt_acc_str=accuracy_score(y_test_str,y_pred)\n",
    "dt_cls_str=classification_report(y_test_str, y_pred)"
   ]
  },
  {
   "cell_type": "code",
   "execution_count": 33,
   "metadata": {},
   "outputs": [],
   "source": [
    "#Decision tree output\n",
    "dot_data = StringIO()\n",
    "export_graphviz(model, out_file=dot_data,  \n",
    "                filled=True, rounded=True,\n",
    "                special_characters=True, feature_names = str_cols,class_names=['0','1','2','3','4'])\n",
    "graph = pydotplus.graph_from_dot_data(dot_data.getvalue())  \n",
    "# graph.write_png('stress.png')\n",
    "# Image(graph.create_png())"
   ]
  },
  {
   "cell_type": "code",
   "execution_count": 34,
   "metadata": {},
   "outputs": [],
   "source": [
    "# Depression\n",
    "model,y_pred=DTree('entropy',X_train_dep,X_test_dep, y_train_dep)\n",
    "dt_ent_acc_dep=accuracy_score(y_test_dep,y_pred)\n",
    "dt_ent_cls_dep=classification_report(y_test_dep, y_pred)\n",
    "# Anxiety\n",
    "model,y_pred=DTree('entropy',X_train_anx,X_test_anx, y_train_anx)\n",
    "dt_ent_acc_anx=accuracy_score(y_test_anx,y_pred) \n",
    "dt_ent_cls_anx=classification_report(y_test_anx, y_pred)\n",
    "# Stress\n",
    "model,y_pred=DTree('entropy',X_train_str,X_test_str, y_train_str)\n",
    "dt_ent_acc_str=accuracy_score(y_test_str,y_pred)\n",
    "dt_ent_cls_str=classification_report(y_test_str, y_pred)"
   ]
  },
  {
   "cell_type": "markdown",
   "metadata": {},
   "source": [
    "# Random Forest"
   ]
  },
  {
   "cell_type": "code",
   "execution_count": 35,
   "metadata": {},
   "outputs": [],
   "source": [
    "def RForest(X_train,X_test, y_train):\n",
    "    rf = RandomForestClassifier(n_estimators=50, random_state=2, n_jobs=-1)\n",
    "    rf.fit(X_train, y_train)\n",
    "    y_pred = rf.predict(X_test)\n",
    "    return rf,y_pred"
   ]
  },
  {
   "cell_type": "code",
   "execution_count": 36,
   "metadata": {},
   "outputs": [],
   "source": [
    "# Depression\n",
    "model,y_pred=RForest(X_train_dep,X_test_dep, y_train_dep)\n",
    "# filename=\"models/dep_model_rf.pkl\"\n",
    "# save_model(model,filename)\n",
    "rf_acc_dep=accuracy_score(y_test_dep,y_pred)\n",
    "rf_cls_dep=classification_report(y_test_dep, y_pred)"
   ]
  },
  {
   "cell_type": "code",
   "execution_count": 37,
   "metadata": {},
   "outputs": [],
   "source": [
    "# Anxiety\n",
    "model,y_pred=RForest(X_train_anx,X_test_anx, y_train_anx)\n",
    "# filename=\"models/anx_model_rf.pkl\"\n",
    "# save_model(model,filename)\n",
    "rf_acc_anx=accuracy_score(y_test_anx,y_pred) \n",
    "rf_cls_anx=classification_report(y_test_anx, y_pred)"
   ]
  },
  {
   "cell_type": "code",
   "execution_count": 38,
   "metadata": {},
   "outputs": [],
   "source": [
    "# Stress\n",
    "model,y_pred=RForest(X_train_str,X_test_str, y_train_str)\n",
    "# filename=\"models/str_model_dt.pkl\"\n",
    "# save_model(model,filename)\n",
    "rf_acc_str=accuracy_score(y_test_str,y_pred)\n",
    "rf_cls_str=classification_report(y_test_str, y_pred)"
   ]
  },
  {
   "cell_type": "markdown",
   "metadata": {},
   "source": [
    "# SVM"
   ]
  },
  {
   "cell_type": "code",
   "execution_count": 39,
   "metadata": {},
   "outputs": [],
   "source": [
    "from sklearn import svm"
   ]
  },
  {
   "cell_type": "code",
   "execution_count": 40,
   "metadata": {},
   "outputs": [],
   "source": [
    "def SVM(X_train,X_test, y_train):\n",
    "    sv = svm.SVC(probability=True, kernel='linear',)\n",
    "    sv.fit(X_train, y_train)\n",
    "    y_pred = sv.predict(X_test)\n",
    "    return sv,y_pred"
   ]
  },
  {
   "cell_type": "code",
   "execution_count": 41,
   "metadata": {},
   "outputs": [],
   "source": [
    "# Depression\n",
    "model,y_pred=SVM(X_train_dep,X_test_dep, y_train_dep)\n",
    "# filename=\"models/dep_model_svm.pkl\"\n",
    "# save_model(model,filename)\n",
    "svm_acc_dep=accuracy_score(y_test_dep,y_pred)\n",
    "svm_cls_dep=classification_report(y_test_dep, y_pred)"
   ]
  },
  {
   "cell_type": "code",
   "execution_count": 42,
   "metadata": {},
   "outputs": [],
   "source": [
    "# Anxiety\n",
    "model,y_pred=SVM(X_train_anx,X_test_anx, y_train_anx)\n",
    "# filename=\"models/anx_model_svm.pkl\"\n",
    "# save_model(model,filename)\n",
    "svm_acc_anx=accuracy_score(y_test_anx,y_pred) \n",
    "svm_cls_anx=classification_report(y_test_anx, y_pred)"
   ]
  },
  {
   "cell_type": "code",
   "execution_count": 43,
   "metadata": {},
   "outputs": [],
   "source": [
    "# Stress\n",
    "model,y_pred=SVM(X_train_str,X_test_str, y_train_str)\n",
    "# filename=\"models/str_model_svm.pkl\"\n",
    "# save_model(model,filename)\n",
    "svm_acc_str=accuracy_score(y_test_str,y_pred)\n",
    "svm_cls_str=classification_report(y_test_str, y_pred)"
   ]
  },
  {
   "cell_type": "code",
   "execution_count": 44,
   "metadata": {},
   "outputs": [],
   "source": [
    "# # Depression\n",
    "# model,y_pred=SVM(X_train,X_test, y_train)\n",
    "# knn_acc_dep=accuracy_score(y_test,y_pred)\n",
    "# knn_cls_dep=classification_report(y_test, y_pred)"
   ]
  },
  {
   "cell_type": "code",
   "execution_count": 45,
   "metadata": {},
   "outputs": [
    {
     "name": "stdout",
     "output_type": "stream",
     "text": [
      "              precision    recall  f1-score   support\n",
      "\n",
      "           0       1.00      1.00      1.00      1911\n",
      "           1       1.00      1.00      1.00       868\n",
      "           2       1.00      1.00      1.00      1794\n",
      "           3       1.00      1.00      1.00      1206\n",
      "           4       1.00      1.00      1.00      2761\n",
      "\n",
      "    accuracy                           1.00      8540\n",
      "   macro avg       1.00      1.00      1.00      8540\n",
      "weighted avg       1.00      1.00      1.00      8540\n",
      "\n"
     ]
    }
   ],
   "source": [
    "print(svm_cls_dep)"
   ]
  },
  {
   "cell_type": "markdown",
   "metadata": {},
   "source": [
    "# Ensemble"
   ]
  },
  {
   "cell_type": "code",
   "execution_count": 46,
   "metadata": {},
   "outputs": [],
   "source": [
    "def bagging(X_train,X_test, y_train):\n",
    "    estimators = []\n",
    "    model1= KNeighborsClassifier(n_neighbors=3) \n",
    "    estimators.append(('KNN', model1)) \n",
    "    model2 = DecisionTreeClassifier() \n",
    "    estimators.append(('cart',model2)) \n",
    "    model3 = SVC(probability=True, kernel='linear')\n",
    "    estimators.append(('svm', model3))\n",
    "    ensemble = VotingClassifier(estimators) #bagging ensembLe \n",
    "    eclf1 = ensemble.fit(X_train,y_train) \n",
    "    y_pred=eclf1.predict(X_test)\n",
    "    return ensemble,y_pred"
   ]
  },
  {
   "cell_type": "code",
   "execution_count": 47,
   "metadata": {},
   "outputs": [],
   "source": [
    "# Depression\n",
    "model,y_pred=bagging(X_train_dep,X_test_dep, y_train_dep)\n",
    "# filename=\"models/dep_model_ens.pkl\"\n",
    "# save_model(model,filename)\n",
    "ens_acc_dep=accuracy_score(y_test_dep,y_pred)\n",
    "ens_cls_dep=classification_report(y_test_dep, y_pred)"
   ]
  },
  {
   "cell_type": "code",
   "execution_count": 48,
   "metadata": {},
   "outputs": [],
   "source": [
    "# Anxiety\n",
    "model,y_pred=bagging(X_train_anx,X_test_anx, y_train_anx)\n",
    "# filename=\"models/anx_model_ens.pkl\"\n",
    "# save_model(model,filename)\n",
    "ens_acc_anx=accuracy_score(y_test_anx,y_pred) \n",
    "ens_cls_anx=classification_report(y_test_anx, y_pred)"
   ]
  },
  {
   "cell_type": "code",
   "execution_count": 49,
   "metadata": {},
   "outputs": [],
   "source": [
    "# Stress\n",
    "model,y_pred=bagging(X_train_str,X_test_str, y_train_str)\n",
    "# filename=\"models/str_model_ens.pkl\"\n",
    "# save_model(model,filename)\n",
    "ens_acc_str=accuracy_score(y_test_str,y_pred)\n",
    "ens_cls_str=classification_report(y_test_str, y_pred)"
   ]
  },
  {
   "cell_type": "markdown",
   "metadata": {},
   "source": [
    "# Adaboost Classifying with base estimator as SVM"
   ]
  },
  {
   "cell_type": "code",
   "execution_count": 50,
   "metadata": {},
   "outputs": [],
   "source": [
    "def AdaBoost(X_train,X_test, y_train):\n",
    "    svc=SVC(probability=True, kernel='linear', )\n",
    "    abc = AdaBoostClassifier(n_estimators=10 ,base_estimator=svc, )\n",
    "    abc.fit(X_train, y_train)\n",
    "    y_pred = abc.predict(X_test)\n",
    "    return abc,y_pred"
   ]
  },
  {
   "cell_type": "code",
   "execution_count": 51,
   "metadata": {},
   "outputs": [],
   "source": [
    "# Depression\n",
    "model,y_pred=AdaBoost(X_train_dep,X_test_dep, y_train_dep)\n",
    "# filename=\"models/dep_model_ada.pkl\"\n",
    "# save_model(model,filename)\n",
    "ada_acc_dep=accuracy_score(y_test_dep,y_pred)\n",
    "ada_cls_dep=classification_report(y_test_dep, y_pred)\n",
    "# filename=\"models/dep_model_ada.joblib\"\n",
    "# dump_joblib(model,filename)"
   ]
  },
  {
   "cell_type": "code",
   "execution_count": 52,
   "metadata": {},
   "outputs": [
    {
     "data": {
      "text/plain": [
       "1.0"
      ]
     },
     "execution_count": 52,
     "metadata": {},
     "output_type": "execute_result"
    }
   ],
   "source": [
    "ada_acc_dep"
   ]
  },
  {
   "cell_type": "code",
   "execution_count": 53,
   "metadata": {},
   "outputs": [],
   "source": [
    "# Anxiety\n",
    "model,y_pred=AdaBoost(X_train_anx,X_test_anx, y_train_anx)\n",
    "# filename=\"models/anx_model_ada.pkl\"\n",
    "# save_model(model,filename)\n",
    "ada_acc_anx=accuracy_score(y_test_anx,y_pred) \n",
    "ada_cls_anx=classification_report(y_test_anx, y_pred)\n",
    "# filename=\"models/anx_model_ada.joblib\"\n",
    "# dump_joblib(model,filename)"
   ]
  },
  {
   "cell_type": "code",
   "execution_count": 54,
   "metadata": {},
   "outputs": [
    {
     "data": {
      "text/plain": [
       "1.0"
      ]
     },
     "execution_count": 54,
     "metadata": {},
     "output_type": "execute_result"
    }
   ],
   "source": [
    "ada_acc_anx"
   ]
  },
  {
   "cell_type": "code",
   "execution_count": 55,
   "metadata": {},
   "outputs": [],
   "source": [
    "# Stress\n",
    "model,y_pred=AdaBoost(X_train_str,X_test_str, y_train_str)\n",
    "# filename=\"models/str_model_ada.pkl\"\n",
    "# save_model(model,filename)\n",
    "ada_acc_str=accuracy_score(y_test_str,y_pred)\n",
    "ada_cls_str=classification_report(y_test_str, y_pred)\n",
    "# filename=\"models/str_model_ada.joblib\"\n",
    "# dump_joblib(model,filename)"
   ]
  },
  {
   "cell_type": "code",
   "execution_count": 56,
   "metadata": {},
   "outputs": [
    {
     "data": {
      "text/plain": [
       "0.9885245901639345"
      ]
     },
     "execution_count": 56,
     "metadata": {},
     "output_type": "execute_result"
    }
   ],
   "source": [
    "ada_acc_str"
   ]
  },
  {
   "cell_type": "code",
   "execution_count": 57,
   "metadata": {},
   "outputs": [
    {
     "name": "stderr",
     "output_type": "stream",
     "text": [
      "C:\\Users\\ahbaz\\anaconda3\\envs\\Ahbaz_GPU\\lib\\site-packages\\sklearn\\base.py:329: UserWarning:\n",
      "\n",
      "Trying to unpickle estimator SVC from version 0.24.2 when using version 1.0.2. This might lead to breaking code or invalid results. Use at your own risk. For more info please refer to:\n",
      "https://scikit-learn.org/stable/modules/model_persistence.html#security-maintainability-limitations\n",
      "\n"
     ]
    }
   ],
   "source": [
    "model = load_model(\"../models/dep_model_svm.pkl\")\n",
    "y_pred = model.predict(X_test_dep)\n",
    "ada_acc_dep=accuracy_score(y_test_dep,y_pred)\n",
    "ada_cls_dep=classification_report(y_test_dep, y_pred)"
   ]
  },
  {
   "cell_type": "code",
   "execution_count": 58,
   "metadata": {},
   "outputs": [
    {
     "name": "stderr",
     "output_type": "stream",
     "text": [
      "C:\\Users\\ahbaz\\anaconda3\\envs\\Ahbaz_GPU\\lib\\site-packages\\sklearn\\base.py:329: UserWarning:\n",
      "\n",
      "Trying to unpickle estimator SVC from version 0.24.2 when using version 1.0.2. This might lead to breaking code or invalid results. Use at your own risk. For more info please refer to:\n",
      "https://scikit-learn.org/stable/modules/model_persistence.html#security-maintainability-limitations\n",
      "\n"
     ]
    }
   ],
   "source": [
    "model = load_model(\"../models/anx_model_svm.pkl\")\n",
    "y_pred = model.predict(X_test_anx)\n",
    "ada_acc_anx=accuracy_score(y_test_anx,y_pred) \n",
    "ada_cls_anx=classification_report(y_test_anx, y_pred)"
   ]
  },
  {
   "cell_type": "code",
   "execution_count": 59,
   "metadata": {},
   "outputs": [
    {
     "name": "stderr",
     "output_type": "stream",
     "text": [
      "C:\\Users\\ahbaz\\anaconda3\\envs\\Ahbaz_GPU\\lib\\site-packages\\sklearn\\base.py:329: UserWarning:\n",
      "\n",
      "Trying to unpickle estimator SVC from version 0.24.2 when using version 1.0.2. This might lead to breaking code or invalid results. Use at your own risk. For more info please refer to:\n",
      "https://scikit-learn.org/stable/modules/model_persistence.html#security-maintainability-limitations\n",
      "\n"
     ]
    }
   ],
   "source": [
    "model = load_model(\"../models/str_model_svm.pkl\")\n",
    "y_pred = model.predict(X_test_str)\n",
    "ada_acc_str=accuracy_score(y_test_str,y_pred)\n",
    "ada_cls_str=classification_report(y_test_str, y_pred)"
   ]
  },
  {
   "cell_type": "markdown",
   "metadata": {},
   "source": [
    "### printing accuracy of each model"
   ]
  },
  {
   "cell_type": "code",
   "execution_count": 60,
   "metadata": {},
   "outputs": [
    {
     "name": "stdout",
     "output_type": "stream",
     "text": [
      "Depression accuracy for KNN:  0.9461358313817331\n",
      "Anxiety accuracy for KNN:  0.9296252927400468\n",
      "Stress accuracy for KNN:  0.9252927400468384\n",
      "\n",
      "\n",
      "\n",
      "Depression accuracy for Naive Bayes:  0.9025761124121779\n",
      "Anxiety accuracy for Naive Bayes:  0.813231850117096\n",
      "Stress accuracy for Naive Bayes:  0.9019906323185012\n",
      "\n",
      "\n",
      "\n",
      "Depression accuracy for Decision Tree using Gini:  0.8832552693208431\n",
      "Anxiety accuracy for Decision Tree using Gini:  0.8457845433255269\n",
      "Stress accuracy for Decision Tree using Gini:  0.8437939110070257\n",
      "\n",
      "\n",
      "\n",
      "Depression accuracy for Decision Tree using Entropy:  0.8851288056206089\n",
      "Anxiety accuracy for Decision Tree using Entropy:  0.8685011709601873\n",
      "Stress accuracy for Decision Tree using Entropy:  0.8447306791569087\n",
      "\n",
      "\n",
      "\n",
      "Depression accuracy for Random Forest:  0.9673302107728338\n",
      "Anxiety accuracy for Random Forest:  0.9612412177985948\n",
      "Stress accuracy for Random Forest:  0.955503512880562\n",
      "\n",
      "\n",
      "\n",
      "Depression accuracy for SVM:  1.0\n",
      "Anxiety accuracy for SVM:  1.0\n",
      "Stress accuracy for SVM:  1.0\n",
      "\n",
      "\n",
      "\n",
      "Depression accuracy for Bagging Method:  0.9792740046838407\n",
      "Anxiety accuracy for Bagging Method:  0.9710772833723653\n",
      "Stress accuracy for Bagging Method:  0.9717798594847775\n",
      "\n",
      "\n",
      "\n",
      "Depression accuracy for Adaboosting:  1.0\n",
      "Anxiety accuracy for Adaboosting:  1.0\n",
      "Stress accuracy for Adaboosting:  1.0\n"
     ]
    }
   ],
   "source": [
    "print(\"Depression accuracy for KNN: \",knn_acc_dep)\n",
    "print(\"Anxiety accuracy for KNN: \",knn_acc_anx)\n",
    "print(\"Stress accuracy for KNN: \",knn_acc_str)\n",
    "print(\"\\n\\n\")\n",
    "print(\"Depression accuracy for Naive Bayes: \",gnb_acc_dep)\n",
    "print(\"Anxiety accuracy for Naive Bayes: \",gnb_acc_anx)\n",
    "print(\"Stress accuracy for Naive Bayes: \",gnb_acc_str)\n",
    "print(\"\\n\\n\")\n",
    "print(\"Depression accuracy for Decision Tree using Gini: \",dt_acc_dep)\n",
    "print(\"Anxiety accuracy for Decision Tree using Gini: \",dt_acc_anx)\n",
    "print(\"Stress accuracy for Decision Tree using Gini: \",dt_acc_str)\n",
    "print(\"\\n\\n\")\n",
    "print(\"Depression accuracy for Decision Tree using Entropy: \",dt_ent_acc_dep)\n",
    "print(\"Anxiety accuracy for Decision Tree using Entropy: \",dt_ent_acc_anx)\n",
    "print(\"Stress accuracy for Decision Tree using Entropy: \",dt_ent_acc_str)\n",
    "print(\"\\n\\n\")\n",
    "print(\"Depression accuracy for Random Forest: \",rf_acc_dep)\n",
    "print(\"Anxiety accuracy for Random Forest: \",rf_acc_anx)\n",
    "print(\"Stress accuracy for Random Forest: \",rf_acc_str)\n",
    "print(\"\\n\\n\")\n",
    "print(\"Depression accuracy for SVM: \",svm_acc_dep)\n",
    "print(\"Anxiety accuracy for SVM: \",svm_acc_anx)\n",
    "print(\"Stress accuracy for SVM: \",svm_acc_str)\n",
    "print(\"\\n\\n\")\n",
    "print(\"Depression accuracy for Bagging Method: \",ens_acc_dep)\n",
    "print(\"Anxiety accuracy for Bagging Method: \",ens_acc_anx)\n",
    "print(\"Stress accuracy for Bagging Method: \",ens_acc_str)\n",
    "print(\"\\n\\n\")\n",
    "print(\"Depression accuracy for Adaboosting: \",ada_acc_dep)\n",
    "print(\"Anxiety accuracy for Adaboosting: \",ada_acc_anx)\n",
    "print(\"Stress accuracy for Adaboosting: \",ada_acc_str)"
   ]
  },
  {
   "cell_type": "markdown",
   "metadata": {},
   "source": [
    "### Printing classification report for each model"
   ]
  },
  {
   "cell_type": "code",
   "execution_count": 61,
   "metadata": {},
   "outputs": [
    {
     "name": "stdout",
     "output_type": "stream",
     "text": [
      "Depression Classification Report for KNN: \n",
      "               precision    recall  f1-score   support\n",
      "\n",
      "           0       0.97      1.00      0.98      1911\n",
      "           1       0.92      0.89      0.91       868\n",
      "           2       0.93      0.92      0.93      1794\n",
      "           3       0.88      0.87      0.88      1206\n",
      "           4       0.97      0.98      0.97      2761\n",
      "\n",
      "    accuracy                           0.95      8540\n",
      "   macro avg       0.94      0.93      0.93      8540\n",
      "weighted avg       0.95      0.95      0.95      8540\n",
      "\n",
      "Anxiety Classification Report for KNN:\n",
      "                precision    recall  f1-score   support\n",
      "\n",
      "           0       0.97      1.00      0.98      2084\n",
      "           1       0.89      0.87      0.88       594\n",
      "           2       0.89      0.93      0.91      1652\n",
      "           3       0.79      0.75      0.77      1030\n",
      "           4       0.98      0.95      0.96      3180\n",
      "\n",
      "    accuracy                           0.93      8540\n",
      "   macro avg       0.90      0.90      0.90      8540\n",
      "weighted avg       0.93      0.93      0.93      8540\n",
      "\n",
      "Stress Classification Report for KNN:\n",
      "                precision    recall  f1-score   support\n",
      "\n",
      "           0       0.96      0.99      0.98      2957\n",
      "           1       0.85      0.83      0.84      1085\n",
      "           2       0.87      0.86      0.86      1546\n",
      "           3       0.93      0.90      0.91      1742\n",
      "           4       0.96      0.98      0.97      1210\n",
      "\n",
      "    accuracy                           0.93      8540\n",
      "   macro avg       0.91      0.91      0.91      8540\n",
      "weighted avg       0.92      0.93      0.92      8540\n",
      "\n",
      "\n",
      "\n",
      "\n",
      "Depression Classification Report for Naive Bayes: \n",
      "               precision    recall  f1-score   support\n",
      "\n",
      "           0       0.99      0.89      0.94      1911\n",
      "           1       0.76      0.82      0.79       868\n",
      "           2       0.87      0.95      0.91      1794\n",
      "           3       0.76      0.92      0.83      1206\n",
      "           4       1.00      0.90      0.95      2761\n",
      "\n",
      "    accuracy                           0.90      8540\n",
      "   macro avg       0.88      0.90      0.88      8540\n",
      "weighted avg       0.91      0.90      0.91      8540\n",
      "\n",
      "Anxiety Classification Report for Naive Bayes: \n",
      "               precision    recall  f1-score   support\n",
      "\n",
      "           0       0.94      0.90      0.92      2084\n",
      "           1       0.17      0.02      0.04       594\n",
      "           2       0.61      0.95      0.74      1652\n",
      "           3       0.62      0.57      0.60      1030\n",
      "           4       0.98      0.91      0.95      3180\n",
      "\n",
      "    accuracy                           0.81      8540\n",
      "   macro avg       0.66      0.67      0.65      8540\n",
      "weighted avg       0.80      0.81      0.79      8540\n",
      "\n",
      "Stress Classification Report for Naive Bayes: \n",
      "               precision    recall  f1-score   support\n",
      "\n",
      "           0       1.00      0.94      0.97      2957\n",
      "           1       0.79      0.78      0.78      1085\n",
      "           2       0.81      0.93      0.87      1546\n",
      "           3       0.86      0.94      0.90      1742\n",
      "           4       0.98      0.83      0.90      1210\n",
      "\n",
      "    accuracy                           0.90      8540\n",
      "   macro avg       0.89      0.88      0.88      8540\n",
      "weighted avg       0.91      0.90      0.90      8540\n",
      "\n",
      "\n",
      "\n",
      "\n",
      "Depression Classification Report for Decision Tree using Gini: \n",
      "               precision    recall  f1-score   support\n",
      "\n",
      "           0       0.96      0.96      0.96      1911\n",
      "           1       0.78      0.75      0.76       868\n",
      "           2       0.81      0.88      0.84      1794\n",
      "           3       0.77      0.73      0.75      1206\n",
      "           4       0.96      0.95      0.95      2761\n",
      "\n",
      "    accuracy                           0.88      8540\n",
      "   macro avg       0.86      0.85      0.85      8540\n",
      "weighted avg       0.88      0.88      0.88      8540\n",
      "\n",
      "Anxiety Classification Report for Decision Tree using Gini: \n",
      "               precision    recall  f1-score   support\n",
      "\n",
      "           0       0.93      0.97      0.95      2084\n",
      "           1       0.63      0.50      0.56       594\n",
      "           2       0.77      0.78      0.78      1652\n",
      "           3       0.60      0.67      0.63      1030\n",
      "           4       0.96      0.91      0.94      3180\n",
      "\n",
      "    accuracy                           0.85      8540\n",
      "   macro avg       0.78      0.77      0.77      8540\n",
      "weighted avg       0.85      0.85      0.85      8540\n",
      "\n",
      "Stress Classification Report for Decision Tree using Gini: \n",
      "               precision    recall  f1-score   support\n",
      "\n",
      "           0       0.95      0.93      0.94      2957\n",
      "           1       0.64      0.73      0.68      1085\n",
      "           2       0.75      0.73      0.74      1546\n",
      "           3       0.84      0.82      0.83      1742\n",
      "           4       0.91      0.92      0.92      1210\n",
      "\n",
      "    accuracy                           0.84      8540\n",
      "   macro avg       0.82      0.83      0.82      8540\n",
      "weighted avg       0.85      0.84      0.85      8540\n",
      "\n",
      "\n",
      "\n",
      "\n",
      "Depression Classification Report for Decision Tree using Entropy: \n",
      "               precision    recall  f1-score   support\n",
      "\n",
      "           0       0.95      0.96      0.96      1911\n",
      "           1       0.75      0.78      0.77       868\n",
      "           2       0.85      0.83      0.84      1794\n",
      "           3       0.76      0.78      0.77      1206\n",
      "           4       0.96      0.95      0.96      2761\n",
      "\n",
      "    accuracy                           0.89      8540\n",
      "   macro avg       0.86      0.86      0.86      8540\n",
      "weighted avg       0.89      0.89      0.89      8540\n",
      "\n",
      "Anxiety Classification Report for Decision Tree using Entropy: \n",
      "               precision    recall  f1-score   support\n",
      "\n",
      "           0       0.96      0.98      0.97      2084\n",
      "           1       0.73      0.72      0.72       594\n",
      "           2       0.79      0.81      0.80      1652\n",
      "           3       0.62      0.67      0.64      1030\n",
      "           4       0.96      0.92      0.94      3180\n",
      "\n",
      "    accuracy                           0.87      8540\n",
      "   macro avg       0.81      0.82      0.82      8540\n",
      "weighted avg       0.87      0.87      0.87      8540\n",
      "\n",
      "Stress Classification Report for Decision Tree using Entropy: \n",
      "               precision    recall  f1-score   support\n",
      "\n",
      "           0       0.96      0.92      0.94      2957\n",
      "           1       0.66      0.75      0.71      1085\n",
      "           2       0.74      0.77      0.75      1546\n",
      "           3       0.84      0.79      0.81      1742\n",
      "           4       0.89      0.92      0.91      1210\n",
      "\n",
      "    accuracy                           0.84      8540\n",
      "   macro avg       0.82      0.83      0.82      8540\n",
      "weighted avg       0.85      0.84      0.85      8540\n",
      "\n",
      "\n",
      "\n",
      "\n",
      "Depression Classification Report for Random Forest: \n",
      "               precision    recall  f1-score   support\n",
      "\n",
      "           0       0.99      1.00      0.99      1911\n",
      "           1       0.94      0.95      0.95       868\n",
      "           2       0.95      0.96      0.96      1794\n",
      "           3       0.93      0.92      0.92      1206\n",
      "           4       0.98      0.98      0.98      2761\n",
      "\n",
      "    accuracy                           0.97      8540\n",
      "   macro avg       0.96      0.96      0.96      8540\n",
      "weighted avg       0.97      0.97      0.97      8540\n",
      "\n",
      "Anxiety Classification Report for Random Forest:\n",
      "                precision    recall  f1-score   support\n",
      "\n",
      "           0       1.00      1.00      1.00      2084\n",
      "           1       0.96      0.98      0.97       594\n",
      "           2       0.93      0.97      0.95      1652\n",
      "           3       0.86      0.85      0.86      1030\n",
      "           4       0.99      0.97      0.98      3180\n",
      "\n",
      "    accuracy                           0.96      8540\n",
      "   macro avg       0.95      0.95      0.95      8540\n",
      "weighted avg       0.96      0.96      0.96      8540\n",
      "\n",
      "Stress Classification Report for Random Forest: \n",
      "               precision    recall  f1-score   support\n",
      "\n",
      "           0       0.98      0.99      0.98      2957\n",
      "           1       0.91      0.90      0.90      1085\n",
      "           2       0.92      0.91      0.92      1546\n",
      "           3       0.95      0.95      0.95      1742\n",
      "           4       0.99      0.99      0.99      1210\n",
      "\n",
      "    accuracy                           0.96      8540\n",
      "   macro avg       0.95      0.95      0.95      8540\n",
      "weighted avg       0.96      0.96      0.96      8540\n",
      "\n",
      "\n",
      "\n",
      "\n",
      "Depression Classification Report for SVM:\n",
      "                precision    recall  f1-score   support\n",
      "\n",
      "           0       1.00      1.00      1.00      1911\n",
      "           1       1.00      1.00      1.00       868\n",
      "           2       1.00      1.00      1.00      1794\n",
      "           3       1.00      1.00      1.00      1206\n",
      "           4       1.00      1.00      1.00      2761\n",
      "\n",
      "    accuracy                           1.00      8540\n",
      "   macro avg       1.00      1.00      1.00      8540\n",
      "weighted avg       1.00      1.00      1.00      8540\n",
      "\n",
      "Anxiety Classification Report for SVM:\n",
      "                precision    recall  f1-score   support\n",
      "\n",
      "           0       1.00      1.00      1.00      2084\n",
      "           1       1.00      1.00      1.00       594\n",
      "           2       1.00      1.00      1.00      1652\n",
      "           3       1.00      1.00      1.00      1030\n",
      "           4       1.00      1.00      1.00      3180\n",
      "\n",
      "    accuracy                           1.00      8540\n",
      "   macro avg       1.00      1.00      1.00      8540\n",
      "weighted avg       1.00      1.00      1.00      8540\n",
      "\n",
      "Stress Classification Report for SVM: \n",
      "               precision    recall  f1-score   support\n",
      "\n",
      "           0       0.96      0.99      0.98      2957\n",
      "           1       0.85      0.83      0.84      1085\n",
      "           2       0.87      0.86      0.86      1546\n",
      "           3       0.93      0.90      0.91      1742\n",
      "           4       0.96      0.98      0.97      1210\n",
      "\n",
      "    accuracy                           0.93      8540\n",
      "   macro avg       0.91      0.91      0.91      8540\n",
      "weighted avg       0.92      0.93      0.92      8540\n",
      "\n",
      "\n",
      "\n",
      "\n",
      "Depression Classification Report for Bagging Method: \n",
      "               precision    recall  f1-score   support\n",
      "\n",
      "           0       0.99      1.00      1.00      1911\n",
      "           1       0.97      0.97      0.97       868\n",
      "           2       0.98      0.97      0.97      1794\n",
      "           3       0.95      0.95      0.95      1206\n",
      "           4       0.99      0.99      0.99      2761\n",
      "\n",
      "    accuracy                           0.98      8540\n",
      "   macro avg       0.97      0.98      0.97      8540\n",
      "weighted avg       0.98      0.98      0.98      8540\n",
      "\n",
      "Anxiety Classification Report for Bagging Method:\n",
      "                precision    recall  f1-score   support\n",
      "\n",
      "           0       1.00      1.00      1.00      2084\n",
      "           1       0.97      0.98      0.97       594\n",
      "           2       0.95      0.97      0.96      1652\n",
      "           3       0.90      0.89      0.89      1030\n",
      "           4       0.99      0.98      0.98      3180\n",
      "\n",
      "    accuracy                           0.97      8540\n",
      "   macro avg       0.96      0.96      0.96      8540\n",
      "weighted avg       0.97      0.97      0.97      8540\n",
      "\n",
      "Stress Classification Report for Bagging Method: \n",
      "               precision    recall  f1-score   support\n",
      "\n",
      "           0       0.99      0.99      0.99      2957\n",
      "           1       0.93      0.94      0.94      1085\n",
      "           2       0.97      0.93      0.95      1546\n",
      "           3       0.97      0.97      0.97      1742\n",
      "           4       0.99      1.00      0.99      1210\n",
      "\n",
      "    accuracy                           0.97      8540\n",
      "   macro avg       0.97      0.97      0.97      8540\n",
      "weighted avg       0.97      0.97      0.97      8540\n",
      "\n",
      "\n",
      "\n",
      "\n",
      "Depression Classification Report for Adaboosting: \n",
      "               precision    recall  f1-score   support\n",
      "\n",
      "           0       1.00      1.00      1.00      1911\n",
      "           1       1.00      1.00      1.00       868\n",
      "           2       1.00      1.00      1.00      1794\n",
      "           3       1.00      1.00      1.00      1206\n",
      "           4       1.00      1.00      1.00      2761\n",
      "\n",
      "    accuracy                           1.00      8540\n",
      "   macro avg       1.00      1.00      1.00      8540\n",
      "weighted avg       1.00      1.00      1.00      8540\n",
      "\n",
      "Anxiety Classification Report for Adaboosting: \n",
      "               precision    recall  f1-score   support\n",
      "\n",
      "           0       1.00      1.00      1.00      2084\n",
      "           1       1.00      1.00      1.00       594\n",
      "           2       1.00      1.00      1.00      1652\n",
      "           3       1.00      1.00      1.00      1030\n",
      "           4       1.00      1.00      1.00      3180\n",
      "\n",
      "    accuracy                           1.00      8540\n",
      "   macro avg       1.00      1.00      1.00      8540\n",
      "weighted avg       1.00      1.00      1.00      8540\n",
      "\n",
      "Stress Classification Report for Adaboosting: \n",
      "               precision    recall  f1-score   support\n",
      "\n",
      "           0       1.00      1.00      1.00      2957\n",
      "           1       1.00      1.00      1.00      1085\n",
      "           2       1.00      1.00      1.00      1546\n",
      "           3       1.00      1.00      1.00      1742\n",
      "           4       1.00      1.00      1.00      1210\n",
      "\n",
      "    accuracy                           1.00      8540\n",
      "   macro avg       1.00      1.00      1.00      8540\n",
      "weighted avg       1.00      1.00      1.00      8540\n",
      "\n"
     ]
    }
   ],
   "source": [
    "print(\"Depression Classification Report for KNN: \\n\",knn_cls_dep)\n",
    "print(\"Anxiety Classification Report for KNN:\\n \",knn_cls_anx)\n",
    "print(\"Stress Classification Report for KNN:\\n \",knn_cls_str)\n",
    "print(\"\\n\\n\")\n",
    "print(\"Depression Classification Report for Naive Bayes: \\n\",gnb_cls_dep)\n",
    "print(\"Anxiety Classification Report for Naive Bayes: \\n\",gnb_cls_anx)\n",
    "print(\"Stress Classification Report for Naive Bayes: \\n\",gnb_cls_str)\n",
    "print(\"\\n\\n\")\n",
    "print(\"Depression Classification Report for Decision Tree using Gini: \\n\",dt_cls_dep)\n",
    "print(\"Anxiety Classification Report for Decision Tree using Gini: \\n\",dt_cls_anx)\n",
    "print(\"Stress Classification Report for Decision Tree using Gini: \\n\",dt_cls_str)\n",
    "print(\"\\n\\n\")\n",
    "print(\"Depression Classification Report for Decision Tree using Entropy: \\n\",dt_ent_cls_dep)\n",
    "print(\"Anxiety Classification Report for Decision Tree using Entropy: \\n\",dt_ent_cls_anx)\n",
    "print(\"Stress Classification Report for Decision Tree using Entropy: \\n\",dt_ent_cls_str)\n",
    "print(\"\\n\\n\")\n",
    "print(\"Depression Classification Report for Random Forest: \\n\",rf_cls_dep)\n",
    "print(\"Anxiety Classification Report for Random Forest:\\n \",rf_cls_anx)\n",
    "print(\"Stress Classification Report for Random Forest: \\n\",rf_cls_str)\n",
    "print(\"\\n\\n\")\n",
    "print(\"Depression Classification Report for SVM:\\n \",svm_cls_dep)\n",
    "print(\"Anxiety Classification Report for SVM:\\n \",svm_cls_anx)\n",
    "print(\"Stress Classification Report for SVM: \\n\",knn_cls_str)\n",
    "print(\"\\n\\n\")\n",
    "print(\"Depression Classification Report for Bagging Method: \\n\",ens_cls_dep)\n",
    "print(\"Anxiety Classification Report for Bagging Method:\\n \",ens_cls_anx)\n",
    "print(\"Stress Classification Report for Bagging Method: \\n\",ens_cls_str)\n",
    "print(\"\\n\\n\")\n",
    "print(\"Depression Classification Report for Adaboosting: \\n\",ada_cls_dep)\n",
    "print(\"Anxiety Classification Report for Adaboosting: \\n\",ada_cls_anx)\n",
    "print(\"Stress Classification Report for Adaboosting: \\n\",ada_cls_str)"
   ]
  },
  {
   "cell_type": "markdown",
   "metadata": {},
   "source": [
    "### saving the accuracy in a dataframe"
   ]
  },
  {
   "cell_type": "code",
   "execution_count": 62,
   "metadata": {},
   "outputs": [],
   "source": [
    "x=['KNN','GaussianNB','Decision Tree(Gini)','Decision Tree(Entropy)','Random Forest','SVM','Bagging','Adaboost']\n",
    "ydep=[knn_acc_dep,gnb_acc_dep,dt_acc_dep,dt_ent_acc_dep,rf_acc_dep,svm_acc_dep,ens_acc_dep,ada_acc_dep]\n",
    "yanx=[knn_acc_anx,gnb_acc_anx,dt_acc_anx,dt_ent_acc_anx,rf_acc_anx,svm_acc_anx,ens_acc_anx,ada_acc_anx]\n",
    "ystr=[knn_acc_str,gnb_acc_str,dt_acc_str,dt_ent_acc_str,rf_acc_str,svm_acc_str,ens_acc_str,ada_acc_str]"
   ]
  },
  {
   "cell_type": "code",
   "execution_count": 63,
   "metadata": {},
   "outputs": [],
   "source": [
    "data = {'Algorithms':x,\n",
    "        'DepressionAccuracy':ydep,\n",
    "        'AnxietyAccuracy':yanx,\n",
    "       'StressAccuracy':ystr}"
   ]
  },
  {
   "cell_type": "code",
   "execution_count": 64,
   "metadata": {},
   "outputs": [
    {
     "data": {
      "text/html": [
       "<div>\n",
       "<style scoped>\n",
       "    .dataframe tbody tr th:only-of-type {\n",
       "        vertical-align: middle;\n",
       "    }\n",
       "\n",
       "    .dataframe tbody tr th {\n",
       "        vertical-align: top;\n",
       "    }\n",
       "\n",
       "    .dataframe thead th {\n",
       "        text-align: right;\n",
       "    }\n",
       "</style>\n",
       "<table border=\"1\" class=\"dataframe\">\n",
       "  <thead>\n",
       "    <tr style=\"text-align: right;\">\n",
       "      <th></th>\n",
       "      <th>Algorithms</th>\n",
       "      <th>DepressionAccuracy</th>\n",
       "      <th>AnxietyAccuracy</th>\n",
       "      <th>StressAccuracy</th>\n",
       "    </tr>\n",
       "  </thead>\n",
       "  <tbody>\n",
       "    <tr>\n",
       "      <th>0</th>\n",
       "      <td>KNN</td>\n",
       "      <td>0.946136</td>\n",
       "      <td>0.929625</td>\n",
       "      <td>0.925293</td>\n",
       "    </tr>\n",
       "    <tr>\n",
       "      <th>1</th>\n",
       "      <td>GaussianNB</td>\n",
       "      <td>0.902576</td>\n",
       "      <td>0.813232</td>\n",
       "      <td>0.901991</td>\n",
       "    </tr>\n",
       "    <tr>\n",
       "      <th>2</th>\n",
       "      <td>Decision Tree(Gini)</td>\n",
       "      <td>0.883255</td>\n",
       "      <td>0.845785</td>\n",
       "      <td>0.843794</td>\n",
       "    </tr>\n",
       "    <tr>\n",
       "      <th>3</th>\n",
       "      <td>Decision Tree(Entropy)</td>\n",
       "      <td>0.885129</td>\n",
       "      <td>0.868501</td>\n",
       "      <td>0.844731</td>\n",
       "    </tr>\n",
       "    <tr>\n",
       "      <th>4</th>\n",
       "      <td>Random Forest</td>\n",
       "      <td>0.967330</td>\n",
       "      <td>0.961241</td>\n",
       "      <td>0.955504</td>\n",
       "    </tr>\n",
       "  </tbody>\n",
       "</table>\n",
       "</div>"
      ],
      "text/plain": [
       "               Algorithms  DepressionAccuracy  AnxietyAccuracy  StressAccuracy\n",
       "0                     KNN            0.946136         0.929625        0.925293\n",
       "1              GaussianNB            0.902576         0.813232        0.901991\n",
       "2     Decision Tree(Gini)            0.883255         0.845785        0.843794\n",
       "3  Decision Tree(Entropy)            0.885129         0.868501        0.844731\n",
       "4           Random Forest            0.967330         0.961241        0.955504"
      ]
     },
     "execution_count": 64,
     "metadata": {},
     "output_type": "execute_result"
    }
   ],
   "source": [
    "df_acc=pd.DataFrame(data)\n",
    "df_acc.head()"
   ]
  },
  {
   "cell_type": "code",
   "execution_count": 65,
   "metadata": {},
   "outputs": [],
   "source": [
    "df_acc.to_csv('Accuracy.csv',index=False)"
   ]
  },
  {
   "cell_type": "markdown",
   "metadata": {},
   "source": [
    "### Comparison of accuracy for each model using a bar graph"
   ]
  },
  {
   "cell_type": "code",
   "execution_count": 66,
   "metadata": {},
   "outputs": [],
   "source": [
    "df_acc=reading_csv('../Datasets/Accuracy.csv')"
   ]
  },
  {
   "cell_type": "code",
   "execution_count": 68,
   "metadata": {},
   "outputs": [
    {
     "data": {
      "application/vnd.plotly.v1+json": {
       "config": {
        "plotlyServerURL": "https://plot.ly"
       },
       "data": [
        {
         "marker": {
          "color": "#274472"
         },
         "name": "Depression",
         "type": "bar",
         "x": [
          "KNN",
          "GaussianNB",
          "Decision Tree(Gini)",
          "Decision Tree(Entropy)",
          "Random Forest",
          "SVM",
          "Bagging",
          "Adaboost"
         ],
         "y": [
          0.9446135831381732,
          0.902576112412178,
          0.8846604215456675,
          0.884543325526932,
          0.9673302107728338,
          1,
          0.9807962529274004,
          1
         ]
        },
        {
         "marker": {
          "color": "#5885AF"
         },
         "name": "Stress",
         "type": "bar",
         "x": [
          "KNN",
          "GaussianNB",
          "Decision Tree(Gini)",
          "Decision Tree(Entropy)",
          "Random Forest",
          "SVM",
          "Bagging",
          "Adaboost"
         ],
         "y": [
          0.922599531615925,
          0.813231850117096,
          0.8464871194379391,
          0.8682669789227166,
          0.9612412177985948,
          1,
          0.9723653395784544,
          1
         ]
        },
        {
         "marker": {
          "color": "#C3E0E5"
         },
         "name": "Anxiety",
         "type": "bar",
         "x": [
          "KNN",
          "GaussianNB",
          "Decision Tree(Gini)",
          "Decision Tree(Entropy)",
          "Random Forest",
          "SVM",
          "Bagging",
          "Adaboost"
         ],
         "y": [
          0.9236533957845432,
          0.9019906323185012,
          0.8442622950819673,
          0.8449648711943794,
          0.955503512880562,
          1,
          0.9734192037470726,
          1
         ]
        }
       ],
       "layout": {
        "barmode": "group",
        "template": {
         "data": {
          "bar": [
           {
            "error_x": {
             "color": "#2a3f5f"
            },
            "error_y": {
             "color": "#2a3f5f"
            },
            "marker": {
             "line": {
              "color": "#E5ECF6",
              "width": 0.5
             },
             "pattern": {
              "fillmode": "overlay",
              "size": 10,
              "solidity": 0.2
             }
            },
            "type": "bar"
           }
          ],
          "barpolar": [
           {
            "marker": {
             "line": {
              "color": "#E5ECF6",
              "width": 0.5
             },
             "pattern": {
              "fillmode": "overlay",
              "size": 10,
              "solidity": 0.2
             }
            },
            "type": "barpolar"
           }
          ],
          "carpet": [
           {
            "aaxis": {
             "endlinecolor": "#2a3f5f",
             "gridcolor": "white",
             "linecolor": "white",
             "minorgridcolor": "white",
             "startlinecolor": "#2a3f5f"
            },
            "baxis": {
             "endlinecolor": "#2a3f5f",
             "gridcolor": "white",
             "linecolor": "white",
             "minorgridcolor": "white",
             "startlinecolor": "#2a3f5f"
            },
            "type": "carpet"
           }
          ],
          "choropleth": [
           {
            "colorbar": {
             "outlinewidth": 0,
             "ticks": ""
            },
            "type": "choropleth"
           }
          ],
          "contour": [
           {
            "colorbar": {
             "outlinewidth": 0,
             "ticks": ""
            },
            "colorscale": [
             [
              0,
              "#0d0887"
             ],
             [
              0.1111111111111111,
              "#46039f"
             ],
             [
              0.2222222222222222,
              "#7201a8"
             ],
             [
              0.3333333333333333,
              "#9c179e"
             ],
             [
              0.4444444444444444,
              "#bd3786"
             ],
             [
              0.5555555555555556,
              "#d8576b"
             ],
             [
              0.6666666666666666,
              "#ed7953"
             ],
             [
              0.7777777777777778,
              "#fb9f3a"
             ],
             [
              0.8888888888888888,
              "#fdca26"
             ],
             [
              1,
              "#f0f921"
             ]
            ],
            "type": "contour"
           }
          ],
          "contourcarpet": [
           {
            "colorbar": {
             "outlinewidth": 0,
             "ticks": ""
            },
            "type": "contourcarpet"
           }
          ],
          "heatmap": [
           {
            "colorbar": {
             "outlinewidth": 0,
             "ticks": ""
            },
            "colorscale": [
             [
              0,
              "#0d0887"
             ],
             [
              0.1111111111111111,
              "#46039f"
             ],
             [
              0.2222222222222222,
              "#7201a8"
             ],
             [
              0.3333333333333333,
              "#9c179e"
             ],
             [
              0.4444444444444444,
              "#bd3786"
             ],
             [
              0.5555555555555556,
              "#d8576b"
             ],
             [
              0.6666666666666666,
              "#ed7953"
             ],
             [
              0.7777777777777778,
              "#fb9f3a"
             ],
             [
              0.8888888888888888,
              "#fdca26"
             ],
             [
              1,
              "#f0f921"
             ]
            ],
            "type": "heatmap"
           }
          ],
          "heatmapgl": [
           {
            "colorbar": {
             "outlinewidth": 0,
             "ticks": ""
            },
            "colorscale": [
             [
              0,
              "#0d0887"
             ],
             [
              0.1111111111111111,
              "#46039f"
             ],
             [
              0.2222222222222222,
              "#7201a8"
             ],
             [
              0.3333333333333333,
              "#9c179e"
             ],
             [
              0.4444444444444444,
              "#bd3786"
             ],
             [
              0.5555555555555556,
              "#d8576b"
             ],
             [
              0.6666666666666666,
              "#ed7953"
             ],
             [
              0.7777777777777778,
              "#fb9f3a"
             ],
             [
              0.8888888888888888,
              "#fdca26"
             ],
             [
              1,
              "#f0f921"
             ]
            ],
            "type": "heatmapgl"
           }
          ],
          "histogram": [
           {
            "marker": {
             "pattern": {
              "fillmode": "overlay",
              "size": 10,
              "solidity": 0.2
             }
            },
            "type": "histogram"
           }
          ],
          "histogram2d": [
           {
            "colorbar": {
             "outlinewidth": 0,
             "ticks": ""
            },
            "colorscale": [
             [
              0,
              "#0d0887"
             ],
             [
              0.1111111111111111,
              "#46039f"
             ],
             [
              0.2222222222222222,
              "#7201a8"
             ],
             [
              0.3333333333333333,
              "#9c179e"
             ],
             [
              0.4444444444444444,
              "#bd3786"
             ],
             [
              0.5555555555555556,
              "#d8576b"
             ],
             [
              0.6666666666666666,
              "#ed7953"
             ],
             [
              0.7777777777777778,
              "#fb9f3a"
             ],
             [
              0.8888888888888888,
              "#fdca26"
             ],
             [
              1,
              "#f0f921"
             ]
            ],
            "type": "histogram2d"
           }
          ],
          "histogram2dcontour": [
           {
            "colorbar": {
             "outlinewidth": 0,
             "ticks": ""
            },
            "colorscale": [
             [
              0,
              "#0d0887"
             ],
             [
              0.1111111111111111,
              "#46039f"
             ],
             [
              0.2222222222222222,
              "#7201a8"
             ],
             [
              0.3333333333333333,
              "#9c179e"
             ],
             [
              0.4444444444444444,
              "#bd3786"
             ],
             [
              0.5555555555555556,
              "#d8576b"
             ],
             [
              0.6666666666666666,
              "#ed7953"
             ],
             [
              0.7777777777777778,
              "#fb9f3a"
             ],
             [
              0.8888888888888888,
              "#fdca26"
             ],
             [
              1,
              "#f0f921"
             ]
            ],
            "type": "histogram2dcontour"
           }
          ],
          "mesh3d": [
           {
            "colorbar": {
             "outlinewidth": 0,
             "ticks": ""
            },
            "type": "mesh3d"
           }
          ],
          "parcoords": [
           {
            "line": {
             "colorbar": {
              "outlinewidth": 0,
              "ticks": ""
             }
            },
            "type": "parcoords"
           }
          ],
          "pie": [
           {
            "automargin": true,
            "type": "pie"
           }
          ],
          "scatter": [
           {
            "marker": {
             "colorbar": {
              "outlinewidth": 0,
              "ticks": ""
             }
            },
            "type": "scatter"
           }
          ],
          "scatter3d": [
           {
            "line": {
             "colorbar": {
              "outlinewidth": 0,
              "ticks": ""
             }
            },
            "marker": {
             "colorbar": {
              "outlinewidth": 0,
              "ticks": ""
             }
            },
            "type": "scatter3d"
           }
          ],
          "scattercarpet": [
           {
            "marker": {
             "colorbar": {
              "outlinewidth": 0,
              "ticks": ""
             }
            },
            "type": "scattercarpet"
           }
          ],
          "scattergeo": [
           {
            "marker": {
             "colorbar": {
              "outlinewidth": 0,
              "ticks": ""
             }
            },
            "type": "scattergeo"
           }
          ],
          "scattergl": [
           {
            "marker": {
             "colorbar": {
              "outlinewidth": 0,
              "ticks": ""
             }
            },
            "type": "scattergl"
           }
          ],
          "scattermapbox": [
           {
            "marker": {
             "colorbar": {
              "outlinewidth": 0,
              "ticks": ""
             }
            },
            "type": "scattermapbox"
           }
          ],
          "scatterpolar": [
           {
            "marker": {
             "colorbar": {
              "outlinewidth": 0,
              "ticks": ""
             }
            },
            "type": "scatterpolar"
           }
          ],
          "scatterpolargl": [
           {
            "marker": {
             "colorbar": {
              "outlinewidth": 0,
              "ticks": ""
             }
            },
            "type": "scatterpolargl"
           }
          ],
          "scatterternary": [
           {
            "marker": {
             "colorbar": {
              "outlinewidth": 0,
              "ticks": ""
             }
            },
            "type": "scatterternary"
           }
          ],
          "surface": [
           {
            "colorbar": {
             "outlinewidth": 0,
             "ticks": ""
            },
            "colorscale": [
             [
              0,
              "#0d0887"
             ],
             [
              0.1111111111111111,
              "#46039f"
             ],
             [
              0.2222222222222222,
              "#7201a8"
             ],
             [
              0.3333333333333333,
              "#9c179e"
             ],
             [
              0.4444444444444444,
              "#bd3786"
             ],
             [
              0.5555555555555556,
              "#d8576b"
             ],
             [
              0.6666666666666666,
              "#ed7953"
             ],
             [
              0.7777777777777778,
              "#fb9f3a"
             ],
             [
              0.8888888888888888,
              "#fdca26"
             ],
             [
              1,
              "#f0f921"
             ]
            ],
            "type": "surface"
           }
          ],
          "table": [
           {
            "cells": {
             "fill": {
              "color": "#EBF0F8"
             },
             "line": {
              "color": "white"
             }
            },
            "header": {
             "fill": {
              "color": "#C8D4E3"
             },
             "line": {
              "color": "white"
             }
            },
            "type": "table"
           }
          ]
         },
         "layout": {
          "annotationdefaults": {
           "arrowcolor": "#2a3f5f",
           "arrowhead": 0,
           "arrowwidth": 1
          },
          "autotypenumbers": "strict",
          "coloraxis": {
           "colorbar": {
            "outlinewidth": 0,
            "ticks": ""
           }
          },
          "colorscale": {
           "diverging": [
            [
             0,
             "#8e0152"
            ],
            [
             0.1,
             "#c51b7d"
            ],
            [
             0.2,
             "#de77ae"
            ],
            [
             0.3,
             "#f1b6da"
            ],
            [
             0.4,
             "#fde0ef"
            ],
            [
             0.5,
             "#f7f7f7"
            ],
            [
             0.6,
             "#e6f5d0"
            ],
            [
             0.7,
             "#b8e186"
            ],
            [
             0.8,
             "#7fbc41"
            ],
            [
             0.9,
             "#4d9221"
            ],
            [
             1,
             "#276419"
            ]
           ],
           "sequential": [
            [
             0,
             "#0d0887"
            ],
            [
             0.1111111111111111,
             "#46039f"
            ],
            [
             0.2222222222222222,
             "#7201a8"
            ],
            [
             0.3333333333333333,
             "#9c179e"
            ],
            [
             0.4444444444444444,
             "#bd3786"
            ],
            [
             0.5555555555555556,
             "#d8576b"
            ],
            [
             0.6666666666666666,
             "#ed7953"
            ],
            [
             0.7777777777777778,
             "#fb9f3a"
            ],
            [
             0.8888888888888888,
             "#fdca26"
            ],
            [
             1,
             "#f0f921"
            ]
           ],
           "sequentialminus": [
            [
             0,
             "#0d0887"
            ],
            [
             0.1111111111111111,
             "#46039f"
            ],
            [
             0.2222222222222222,
             "#7201a8"
            ],
            [
             0.3333333333333333,
             "#9c179e"
            ],
            [
             0.4444444444444444,
             "#bd3786"
            ],
            [
             0.5555555555555556,
             "#d8576b"
            ],
            [
             0.6666666666666666,
             "#ed7953"
            ],
            [
             0.7777777777777778,
             "#fb9f3a"
            ],
            [
             0.8888888888888888,
             "#fdca26"
            ],
            [
             1,
             "#f0f921"
            ]
           ]
          },
          "colorway": [
           "#636efa",
           "#EF553B",
           "#00cc96",
           "#ab63fa",
           "#FFA15A",
           "#19d3f3",
           "#FF6692",
           "#B6E880",
           "#FF97FF",
           "#FECB52"
          ],
          "font": {
           "color": "#2a3f5f"
          },
          "geo": {
           "bgcolor": "white",
           "lakecolor": "white",
           "landcolor": "#E5ECF6",
           "showlakes": true,
           "showland": true,
           "subunitcolor": "white"
          },
          "hoverlabel": {
           "align": "left"
          },
          "hovermode": "closest",
          "mapbox": {
           "style": "light"
          },
          "paper_bgcolor": "white",
          "plot_bgcolor": "#E5ECF6",
          "polar": {
           "angularaxis": {
            "gridcolor": "white",
            "linecolor": "white",
            "ticks": ""
           },
           "bgcolor": "#E5ECF6",
           "radialaxis": {
            "gridcolor": "white",
            "linecolor": "white",
            "ticks": ""
           }
          },
          "scene": {
           "xaxis": {
            "backgroundcolor": "#E5ECF6",
            "gridcolor": "white",
            "gridwidth": 2,
            "linecolor": "white",
            "showbackground": true,
            "ticks": "",
            "zerolinecolor": "white"
           },
           "yaxis": {
            "backgroundcolor": "#E5ECF6",
            "gridcolor": "white",
            "gridwidth": 2,
            "linecolor": "white",
            "showbackground": true,
            "ticks": "",
            "zerolinecolor": "white"
           },
           "zaxis": {
            "backgroundcolor": "#E5ECF6",
            "gridcolor": "white",
            "gridwidth": 2,
            "linecolor": "white",
            "showbackground": true,
            "ticks": "",
            "zerolinecolor": "white"
           }
          },
          "shapedefaults": {
           "line": {
            "color": "#2a3f5f"
           }
          },
          "ternary": {
           "aaxis": {
            "gridcolor": "white",
            "linecolor": "white",
            "ticks": ""
           },
           "baxis": {
            "gridcolor": "white",
            "linecolor": "white",
            "ticks": ""
           },
           "bgcolor": "#E5ECF6",
           "caxis": {
            "gridcolor": "white",
            "linecolor": "white",
            "ticks": ""
           }
          },
          "title": {
           "x": 0.05
          },
          "xaxis": {
           "automargin": true,
           "gridcolor": "white",
           "linecolor": "white",
           "ticks": "",
           "title": {
            "standoff": 15
           },
           "zerolinecolor": "white",
           "zerolinewidth": 2
          },
          "yaxis": {
           "automargin": true,
           "gridcolor": "white",
           "linecolor": "white",
           "ticks": "",
           "title": {
            "standoff": 15
           },
           "zerolinecolor": "white",
           "zerolinewidth": 2
          }
         }
        }
       }
      },
      "text/html": [
       "<div>                            <div id=\"99051067-5ca9-40fe-98f2-37a4b3cc3ffe\" class=\"plotly-graph-div\" style=\"height:525px; width:100%;\"></div>            <script type=\"text/javascript\">                require([\"plotly\"], function(Plotly) {                    window.PLOTLYENV=window.PLOTLYENV || {};                                    if (document.getElementById(\"99051067-5ca9-40fe-98f2-37a4b3cc3ffe\")) {                    Plotly.newPlot(                        \"99051067-5ca9-40fe-98f2-37a4b3cc3ffe\",                        [{\"marker\":{\"color\":\"#274472\"},\"name\":\"Depression\",\"x\":[\"KNN\",\"GaussianNB\",\"Decision Tree(Gini)\",\"Decision Tree(Entropy)\",\"Random Forest\",\"SVM\",\"Bagging\",\"Adaboost\"],\"y\":[0.9446135831381732,0.902576112412178,0.8846604215456675,0.884543325526932,0.9673302107728338,1.0,0.9807962529274004,1.0],\"type\":\"bar\"},{\"marker\":{\"color\":\"#5885AF\"},\"name\":\"Stress\",\"x\":[\"KNN\",\"GaussianNB\",\"Decision Tree(Gini)\",\"Decision Tree(Entropy)\",\"Random Forest\",\"SVM\",\"Bagging\",\"Adaboost\"],\"y\":[0.922599531615925,0.813231850117096,0.8464871194379391,0.8682669789227166,0.9612412177985948,1.0,0.9723653395784544,1.0],\"type\":\"bar\"},{\"marker\":{\"color\":\"#C3E0E5\"},\"name\":\"Anxiety\",\"x\":[\"KNN\",\"GaussianNB\",\"Decision Tree(Gini)\",\"Decision Tree(Entropy)\",\"Random Forest\",\"SVM\",\"Bagging\",\"Adaboost\"],\"y\":[0.9236533957845432,0.9019906323185012,0.8442622950819673,0.8449648711943794,0.955503512880562,1.0,0.9734192037470726,1.0],\"type\":\"bar\"}],                        {\"template\":{\"data\":{\"bar\":[{\"error_x\":{\"color\":\"#2a3f5f\"},\"error_y\":{\"color\":\"#2a3f5f\"},\"marker\":{\"line\":{\"color\":\"#E5ECF6\",\"width\":0.5},\"pattern\":{\"fillmode\":\"overlay\",\"size\":10,\"solidity\":0.2}},\"type\":\"bar\"}],\"barpolar\":[{\"marker\":{\"line\":{\"color\":\"#E5ECF6\",\"width\":0.5},\"pattern\":{\"fillmode\":\"overlay\",\"size\":10,\"solidity\":0.2}},\"type\":\"barpolar\"}],\"carpet\":[{\"aaxis\":{\"endlinecolor\":\"#2a3f5f\",\"gridcolor\":\"white\",\"linecolor\":\"white\",\"minorgridcolor\":\"white\",\"startlinecolor\":\"#2a3f5f\"},\"baxis\":{\"endlinecolor\":\"#2a3f5f\",\"gridcolor\":\"white\",\"linecolor\":\"white\",\"minorgridcolor\":\"white\",\"startlinecolor\":\"#2a3f5f\"},\"type\":\"carpet\"}],\"choropleth\":[{\"colorbar\":{\"outlinewidth\":0,\"ticks\":\"\"},\"type\":\"choropleth\"}],\"contour\":[{\"colorbar\":{\"outlinewidth\":0,\"ticks\":\"\"},\"colorscale\":[[0.0,\"#0d0887\"],[0.1111111111111111,\"#46039f\"],[0.2222222222222222,\"#7201a8\"],[0.3333333333333333,\"#9c179e\"],[0.4444444444444444,\"#bd3786\"],[0.5555555555555556,\"#d8576b\"],[0.6666666666666666,\"#ed7953\"],[0.7777777777777778,\"#fb9f3a\"],[0.8888888888888888,\"#fdca26\"],[1.0,\"#f0f921\"]],\"type\":\"contour\"}],\"contourcarpet\":[{\"colorbar\":{\"outlinewidth\":0,\"ticks\":\"\"},\"type\":\"contourcarpet\"}],\"heatmap\":[{\"colorbar\":{\"outlinewidth\":0,\"ticks\":\"\"},\"colorscale\":[[0.0,\"#0d0887\"],[0.1111111111111111,\"#46039f\"],[0.2222222222222222,\"#7201a8\"],[0.3333333333333333,\"#9c179e\"],[0.4444444444444444,\"#bd3786\"],[0.5555555555555556,\"#d8576b\"],[0.6666666666666666,\"#ed7953\"],[0.7777777777777778,\"#fb9f3a\"],[0.8888888888888888,\"#fdca26\"],[1.0,\"#f0f921\"]],\"type\":\"heatmap\"}],\"heatmapgl\":[{\"colorbar\":{\"outlinewidth\":0,\"ticks\":\"\"},\"colorscale\":[[0.0,\"#0d0887\"],[0.1111111111111111,\"#46039f\"],[0.2222222222222222,\"#7201a8\"],[0.3333333333333333,\"#9c179e\"],[0.4444444444444444,\"#bd3786\"],[0.5555555555555556,\"#d8576b\"],[0.6666666666666666,\"#ed7953\"],[0.7777777777777778,\"#fb9f3a\"],[0.8888888888888888,\"#fdca26\"],[1.0,\"#f0f921\"]],\"type\":\"heatmapgl\"}],\"histogram\":[{\"marker\":{\"pattern\":{\"fillmode\":\"overlay\",\"size\":10,\"solidity\":0.2}},\"type\":\"histogram\"}],\"histogram2d\":[{\"colorbar\":{\"outlinewidth\":0,\"ticks\":\"\"},\"colorscale\":[[0.0,\"#0d0887\"],[0.1111111111111111,\"#46039f\"],[0.2222222222222222,\"#7201a8\"],[0.3333333333333333,\"#9c179e\"],[0.4444444444444444,\"#bd3786\"],[0.5555555555555556,\"#d8576b\"],[0.6666666666666666,\"#ed7953\"],[0.7777777777777778,\"#fb9f3a\"],[0.8888888888888888,\"#fdca26\"],[1.0,\"#f0f921\"]],\"type\":\"histogram2d\"}],\"histogram2dcontour\":[{\"colorbar\":{\"outlinewidth\":0,\"ticks\":\"\"},\"colorscale\":[[0.0,\"#0d0887\"],[0.1111111111111111,\"#46039f\"],[0.2222222222222222,\"#7201a8\"],[0.3333333333333333,\"#9c179e\"],[0.4444444444444444,\"#bd3786\"],[0.5555555555555556,\"#d8576b\"],[0.6666666666666666,\"#ed7953\"],[0.7777777777777778,\"#fb9f3a\"],[0.8888888888888888,\"#fdca26\"],[1.0,\"#f0f921\"]],\"type\":\"histogram2dcontour\"}],\"mesh3d\":[{\"colorbar\":{\"outlinewidth\":0,\"ticks\":\"\"},\"type\":\"mesh3d\"}],\"parcoords\":[{\"line\":{\"colorbar\":{\"outlinewidth\":0,\"ticks\":\"\"}},\"type\":\"parcoords\"}],\"pie\":[{\"automargin\":true,\"type\":\"pie\"}],\"scatter\":[{\"marker\":{\"colorbar\":{\"outlinewidth\":0,\"ticks\":\"\"}},\"type\":\"scatter\"}],\"scatter3d\":[{\"line\":{\"colorbar\":{\"outlinewidth\":0,\"ticks\":\"\"}},\"marker\":{\"colorbar\":{\"outlinewidth\":0,\"ticks\":\"\"}},\"type\":\"scatter3d\"}],\"scattercarpet\":[{\"marker\":{\"colorbar\":{\"outlinewidth\":0,\"ticks\":\"\"}},\"type\":\"scattercarpet\"}],\"scattergeo\":[{\"marker\":{\"colorbar\":{\"outlinewidth\":0,\"ticks\":\"\"}},\"type\":\"scattergeo\"}],\"scattergl\":[{\"marker\":{\"colorbar\":{\"outlinewidth\":0,\"ticks\":\"\"}},\"type\":\"scattergl\"}],\"scattermapbox\":[{\"marker\":{\"colorbar\":{\"outlinewidth\":0,\"ticks\":\"\"}},\"type\":\"scattermapbox\"}],\"scatterpolar\":[{\"marker\":{\"colorbar\":{\"outlinewidth\":0,\"ticks\":\"\"}},\"type\":\"scatterpolar\"}],\"scatterpolargl\":[{\"marker\":{\"colorbar\":{\"outlinewidth\":0,\"ticks\":\"\"}},\"type\":\"scatterpolargl\"}],\"scatterternary\":[{\"marker\":{\"colorbar\":{\"outlinewidth\":0,\"ticks\":\"\"}},\"type\":\"scatterternary\"}],\"surface\":[{\"colorbar\":{\"outlinewidth\":0,\"ticks\":\"\"},\"colorscale\":[[0.0,\"#0d0887\"],[0.1111111111111111,\"#46039f\"],[0.2222222222222222,\"#7201a8\"],[0.3333333333333333,\"#9c179e\"],[0.4444444444444444,\"#bd3786\"],[0.5555555555555556,\"#d8576b\"],[0.6666666666666666,\"#ed7953\"],[0.7777777777777778,\"#fb9f3a\"],[0.8888888888888888,\"#fdca26\"],[1.0,\"#f0f921\"]],\"type\":\"surface\"}],\"table\":[{\"cells\":{\"fill\":{\"color\":\"#EBF0F8\"},\"line\":{\"color\":\"white\"}},\"header\":{\"fill\":{\"color\":\"#C8D4E3\"},\"line\":{\"color\":\"white\"}},\"type\":\"table\"}]},\"layout\":{\"annotationdefaults\":{\"arrowcolor\":\"#2a3f5f\",\"arrowhead\":0,\"arrowwidth\":1},\"autotypenumbers\":\"strict\",\"coloraxis\":{\"colorbar\":{\"outlinewidth\":0,\"ticks\":\"\"}},\"colorscale\":{\"diverging\":[[0,\"#8e0152\"],[0.1,\"#c51b7d\"],[0.2,\"#de77ae\"],[0.3,\"#f1b6da\"],[0.4,\"#fde0ef\"],[0.5,\"#f7f7f7\"],[0.6,\"#e6f5d0\"],[0.7,\"#b8e186\"],[0.8,\"#7fbc41\"],[0.9,\"#4d9221\"],[1,\"#276419\"]],\"sequential\":[[0.0,\"#0d0887\"],[0.1111111111111111,\"#46039f\"],[0.2222222222222222,\"#7201a8\"],[0.3333333333333333,\"#9c179e\"],[0.4444444444444444,\"#bd3786\"],[0.5555555555555556,\"#d8576b\"],[0.6666666666666666,\"#ed7953\"],[0.7777777777777778,\"#fb9f3a\"],[0.8888888888888888,\"#fdca26\"],[1.0,\"#f0f921\"]],\"sequentialminus\":[[0.0,\"#0d0887\"],[0.1111111111111111,\"#46039f\"],[0.2222222222222222,\"#7201a8\"],[0.3333333333333333,\"#9c179e\"],[0.4444444444444444,\"#bd3786\"],[0.5555555555555556,\"#d8576b\"],[0.6666666666666666,\"#ed7953\"],[0.7777777777777778,\"#fb9f3a\"],[0.8888888888888888,\"#fdca26\"],[1.0,\"#f0f921\"]]},\"colorway\":[\"#636efa\",\"#EF553B\",\"#00cc96\",\"#ab63fa\",\"#FFA15A\",\"#19d3f3\",\"#FF6692\",\"#B6E880\",\"#FF97FF\",\"#FECB52\"],\"font\":{\"color\":\"#2a3f5f\"},\"geo\":{\"bgcolor\":\"white\",\"lakecolor\":\"white\",\"landcolor\":\"#E5ECF6\",\"showlakes\":true,\"showland\":true,\"subunitcolor\":\"white\"},\"hoverlabel\":{\"align\":\"left\"},\"hovermode\":\"closest\",\"mapbox\":{\"style\":\"light\"},\"paper_bgcolor\":\"white\",\"plot_bgcolor\":\"#E5ECF6\",\"polar\":{\"angularaxis\":{\"gridcolor\":\"white\",\"linecolor\":\"white\",\"ticks\":\"\"},\"bgcolor\":\"#E5ECF6\",\"radialaxis\":{\"gridcolor\":\"white\",\"linecolor\":\"white\",\"ticks\":\"\"}},\"scene\":{\"xaxis\":{\"backgroundcolor\":\"#E5ECF6\",\"gridcolor\":\"white\",\"gridwidth\":2,\"linecolor\":\"white\",\"showbackground\":true,\"ticks\":\"\",\"zerolinecolor\":\"white\"},\"yaxis\":{\"backgroundcolor\":\"#E5ECF6\",\"gridcolor\":\"white\",\"gridwidth\":2,\"linecolor\":\"white\",\"showbackground\":true,\"ticks\":\"\",\"zerolinecolor\":\"white\"},\"zaxis\":{\"backgroundcolor\":\"#E5ECF6\",\"gridcolor\":\"white\",\"gridwidth\":2,\"linecolor\":\"white\",\"showbackground\":true,\"ticks\":\"\",\"zerolinecolor\":\"white\"}},\"shapedefaults\":{\"line\":{\"color\":\"#2a3f5f\"}},\"ternary\":{\"aaxis\":{\"gridcolor\":\"white\",\"linecolor\":\"white\",\"ticks\":\"\"},\"baxis\":{\"gridcolor\":\"white\",\"linecolor\":\"white\",\"ticks\":\"\"},\"bgcolor\":\"#E5ECF6\",\"caxis\":{\"gridcolor\":\"white\",\"linecolor\":\"white\",\"ticks\":\"\"}},\"title\":{\"x\":0.05},\"xaxis\":{\"automargin\":true,\"gridcolor\":\"white\",\"linecolor\":\"white\",\"ticks\":\"\",\"title\":{\"standoff\":15},\"zerolinecolor\":\"white\",\"zerolinewidth\":2},\"yaxis\":{\"automargin\":true,\"gridcolor\":\"white\",\"linecolor\":\"white\",\"ticks\":\"\",\"title\":{\"standoff\":15},\"zerolinecolor\":\"white\",\"zerolinewidth\":2}}},\"barmode\":\"group\"},                        {\"responsive\": true}                    ).then(function(){\n",
       "                            \n",
       "var gd = document.getElementById('99051067-5ca9-40fe-98f2-37a4b3cc3ffe');\n",
       "var x = new MutationObserver(function (mutations, observer) {{\n",
       "        var display = window.getComputedStyle(gd).display;\n",
       "        if (!display || display === 'none') {{\n",
       "            console.log([gd, 'removed!']);\n",
       "            Plotly.purge(gd);\n",
       "            observer.disconnect();\n",
       "        }}\n",
       "}});\n",
       "\n",
       "// Listen for the removal of the full notebook cells\n",
       "var notebookContainer = gd.closest('#notebook-container');\n",
       "if (notebookContainer) {{\n",
       "    x.observe(notebookContainer, {childList: true});\n",
       "}}\n",
       "\n",
       "// Listen for the clearing of the current output cell\n",
       "var outputEl = gd.closest('.output');\n",
       "if (outputEl) {{\n",
       "    x.observe(outputEl, {childList: true});\n",
       "}}\n",
       "\n",
       "                        })                };                });            </script>        </div>"
      ]
     },
     "metadata": {},
     "output_type": "display_data"
    }
   ],
   "source": [
    "colors = ['#274472', '#5885AF', '#C3E0E5','#007e79']\n",
    "fig = go.Figure(data=[\n",
    "    go.Bar(name='Depression', x=df_acc['Algorithms'], y=df_acc['DepressionAccuracy'],marker_color=colors[0]),\n",
    "    go.Bar(name='Stress', x=df_acc['Algorithms'], y=df_acc['AnxietyAccuracy'],marker_color=colors[1]),\n",
    "    go.Bar(name='Anxiety', x=df_acc['Algorithms'], y=df_acc['StressAccuracy'],marker_color=colors[2]),\n",
    "])\n",
    "# Change the bar mode\n",
    "fig.update_layout(barmode='group')\n",
    "# fig.write_image(\"images/acc.png\")\n",
    "fig.show()\n",
    "fig.write_image(\"fig.svg\")"
   ]
  },
  {
   "cell_type": "code",
   "execution_count": null,
   "metadata": {},
   "outputs": [],
   "source": []
  }
 ],
 "metadata": {
  "kernelspec": {
   "display_name": "Ahbaz_GPU",
   "language": "python",
   "name": "ahbaz_gpu"
  },
  "language_info": {
   "codemirror_mode": {
    "name": "ipython",
    "version": 3
   },
   "file_extension": ".py",
   "mimetype": "text/x-python",
   "name": "python",
   "nbconvert_exporter": "python",
   "pygments_lexer": "ipython3",
   "version": "3.9.7"
  }
 },
 "nbformat": 4,
 "nbformat_minor": 2
}
